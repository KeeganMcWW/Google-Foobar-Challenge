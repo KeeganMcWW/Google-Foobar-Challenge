{
  "nbformat": 4,
  "nbformat_minor": 0,
  "metadata": {
    "colab": {
      "name": "foobar_3c.ipynb",
      "provenance": [],
      "collapsed_sections": [],
      "authorship_tag": "ABX9TyMeW09y/lHhbK1//twR04Jv",
      "include_colab_link": true
    },
    "kernelspec": {
      "name": "python3",
      "display_name": "Python 3"
    },
    "language_info": {
      "name": "python"
    }
  },
  "cells": [
    {
      "cell_type": "markdown",
      "metadata": {
        "id": "view-in-github",
        "colab_type": "text"
      },
      "source": [
        "<a href=\"https://colab.research.google.com/github/KeeganMcWW/Google-Foobar-Challenge/blob/main/foobar_3c.ipynb\" target=\"_parent\"><img src=\"https://colab.research.google.com/assets/colab-badge.svg\" alt=\"Open In Colab\"/></a>"
      ]
    },
    {
      "cell_type": "code",
      "metadata": {
        "id": "uUZM6TsvlY3q"
      },
      "source": [
        "from fractions import Fraction\n",
        "from fractions import gcd\n",
        "#from math import gcd\n",
        "from functools import reduce"
      ],
      "execution_count": 1,
      "outputs": []
    },
    {
      "cell_type": "code",
      "metadata": {
        "id": "4grZ_dkhrQvl"
      },
      "source": [
        "# https://brilliant.org/wiki/absorbing-markov-chains/"
      ],
      "execution_count": null,
      "outputs": []
    },
    {
      "cell_type": "code",
      "metadata": {
        "id": "rzx3R6Lvf2Bo"
      },
      "source": [
        "# https://github.com/ThomIves/MatrixInverse/blob/master/LinearAlgebraPurePython.py\n",
        "def check_squareness(A):\n",
        "    \"\"\"\n",
        "    Makes sure that a matrix is square\n",
        "        :param A: The matrix to be checked.\n",
        "    \"\"\"\n",
        "    if len(A) != len(A[0]):\n",
        "        raise ArithmeticError(\"Matrix must be square to inverse.\")"
      ],
      "execution_count": 2,
      "outputs": []
    },
    {
      "cell_type": "code",
      "metadata": {
        "id": "ryaXAKMAgEZa"
      },
      "source": [
        "def determinant(A, total=0):\n",
        "    indices = list(range(len(A)))\n",
        "    \n",
        "    if len(A) == 2 and len(A[0]) == 2:\n",
        "        val = A[0][0] * A[1][1] - A[1][0] * A[0][1]\n",
        "        return val\n",
        "\n",
        "    for fc in indices:\n",
        "        As = copy_matrix(A)\n",
        "        As = As[1:]\n",
        "        height = len(As)\n",
        "        builder = 0\n",
        "\n",
        "        for i in range(height):\n",
        "            As[i] = As[i][0:fc] + As[i][fc+1:]\n",
        "\n",
        "        sign = (-1) ** (fc % 2)\n",
        "        sub_det = determinant(As)\n",
        "        total += A[0][fc] * sign * sub_det\n",
        "\n",
        "    return total\n"
      ],
      "execution_count": 3,
      "outputs": []
    },
    {
      "cell_type": "code",
      "metadata": {
        "id": "aRdQ8jIff2iK"
      },
      "source": [
        "def check_non_singular(A):\n",
        "    det = determinant(A)\n",
        "    if det != 0:\n",
        "        return det\n",
        "    else:\n",
        "        raise ArithmeticError(\"Singular Matrix!\")"
      ],
      "execution_count": 4,
      "outputs": []
    },
    {
      "cell_type": "code",
      "metadata": {
        "id": "KIFOCEOJf5Zc"
      },
      "source": [
        "def check_matrix_equality(A,B, tol=None):\n",
        "    \"\"\"\n",
        "    Checks the equality of two matrices.\n",
        "        :param A: The first matrix\n",
        "        :param B: The second matrix\n",
        "        :param tol: The decimal place tolerance of the check\n",
        "        :return: The boolean result of the equality check\n",
        "    \"\"\"\n",
        "    if len(A) != len(B) or len(A[0]) != len(B[0]):\n",
        "        return False\n",
        "\n",
        "    for i in range(len(A)):\n",
        "        for j in range(len(A[0])):\n",
        "            if tol == None:\n",
        "                if A[i][j] != B[i][j]:\n",
        "                    return False\n",
        "            else:\n",
        "                if round(A[i][j],tol) != round(B[i][j],tol):\n",
        "                    return False\n",
        "\n",
        "    return True"
      ],
      "execution_count": 5,
      "outputs": []
    },
    {
      "cell_type": "code",
      "metadata": {
        "id": "9-Ct3pBZX6iA"
      },
      "source": [
        "    def zeros_matrix(rows, cols):\n",
        "        \"\"\"\n",
        "        Creates a matrix filled with zeros.\n",
        "            :param rows: the number of rows the matrix should have\n",
        "            :param cols: the number of columns the matrix should have\n",
        "\n",
        "            :return: list of lists that form the matrix\n",
        "        \"\"\"\n",
        "        M = []\n",
        "        while len(M) < rows:\n",
        "            M.append([])\n",
        "            while len(M[-1]) < cols:\n",
        "                M[-1].append(0.0)\n",
        "\n",
        "        return M"
      ],
      "execution_count": 6,
      "outputs": []
    },
    {
      "cell_type": "code",
      "metadata": {
        "id": "pjh-uveBeOVF"
      },
      "source": [
        "def identity_matrix(n):\n",
        "    \"\"\"\n",
        "    Creates and returns an identity matrix.\n",
        "        :param n: the square size of the matrix\n",
        " \n",
        "        :return: a square identity matrix\n",
        "    \"\"\"\n",
        "    IdM = zeros_matrix(n, n)\n",
        "    for i in range(n):\n",
        "        IdM[i][i] = 1.0\n",
        " \n",
        "    return IdM"
      ],
      "execution_count": 7,
      "outputs": []
    },
    {
      "cell_type": "code",
      "metadata": {
        "id": "a-bwk5c1eO5d"
      },
      "source": [
        "def matrix_addition(A, B):\n",
        "    \"\"\"\n",
        "    Adds two matrices and returns the sum\n",
        "        :param A: The first matrix\n",
        "        :param B: The second matrix\n",
        " \n",
        "        :return: Matrix sum\n",
        "    \"\"\"\n",
        "    # Section 1: Ensure dimensions are valid for matrix addition\n",
        "    rowsA = len(A)\n",
        "    colsA = len(A[0])\n",
        "    rowsB = len(B)\n",
        "    colsB = len(B[0])\n",
        "    if rowsA != rowsB or colsA != colsB:\n",
        "        raise ArithmeticError('Matrices are NOT the same size.')\n",
        " \n",
        "    # Section 2: Create a new matrix for the matrix sum\n",
        "    C = zeros_matrix(rowsA, colsB)\n",
        " \n",
        "    # Section 3: Perform element by element sum\n",
        "    for i in range(rowsA):\n",
        "        for j in range(colsB):\n",
        "            C[i][j] = A[i][j] + B[i][j]\n",
        " \n",
        "    return C\n",
        " \n",
        "def matrix_subtraction(A, B):\n",
        "    \"\"\"\n",
        "    Subtracts matrix B from matrix A and returns difference\n",
        "        :param A: The first matrix\n",
        "        :param B: The second matrix\n",
        " \n",
        "        :return: Matrix difference\n",
        "    \"\"\"\n",
        "    # Section 1: Ensure dimensions are valid for matrix subtraction\n",
        "    rowsA = len(A)\n",
        "    colsA = len(A[0])\n",
        "    rowsB = len(B)\n",
        "    colsB = len(B[0])\n",
        "    if rowsA != rowsB or colsA != colsB:\n",
        "        raise ArithmeticError('Matrices are NOT the same size.')\n",
        " \n",
        "    # Section 2: Create a new matrix for the matrix difference\n",
        "    C = zeros_matrix(rowsA, colsB)\n",
        " \n",
        "    # Section 3: Perform element by element subtraction\n",
        "    for i in range(rowsA):\n",
        "        for j in range(colsB):\n",
        "            C[i][j] = A[i][j] - B[i][j]\n",
        " \n",
        "    return C"
      ],
      "execution_count": 8,
      "outputs": []
    },
    {
      "cell_type": "code",
      "metadata": {
        "id": "vbUg3Fzra2dk"
      },
      "source": [
        "    def transpose(M):\n",
        "        \"\"\"\n",
        "        Returns a transpose of a matrix.\n",
        "            :param M: The matrix to be transposed\n",
        "\n",
        "            :return: The transpose of the given matrix\n",
        "        \"\"\"\n",
        "        # Section 1: if a 1D array, convert to a 2D array = matrix\n",
        "        if not isinstance(M[0], list):\n",
        "            M = [M]\n",
        "        # Section 2: Get dimensions\n",
        "        rows = len(M)\n",
        "        cols = len(M[0])\n",
        "        # Section 3: MT is zeros matrix with transposed dimensions\n",
        "        MT = zeros_matrix(cols, rows)\n",
        "        # Section 4: Copy values from M to it's transpose MT\n",
        "        for i in range(rows):\n",
        "            for j in range(cols):\n",
        "                MT[j][i] = M[i][j]\n",
        "        return MT"
      ],
      "execution_count": 9,
      "outputs": []
    },
    {
      "cell_type": "code",
      "metadata": {
        "id": "SwHpAfFWRX81"
      },
      "source": [
        "def copy_matrix(M):\n",
        "    rows = len(M)\n",
        "    cols = len(M[0])\n",
        "\n",
        "    MC = zeros_matrix(rows, cols)\n",
        "\n",
        "    for i in range(rows):\n",
        "        for j in range(cols):\n",
        "            MC[i][j] = M[i][j]\n",
        "\n",
        "    return MC"
      ],
      "execution_count": 10,
      "outputs": []
    },
    {
      "cell_type": "code",
      "metadata": {
        "id": "gJZU4i-gX6fs"
      },
      "source": [
        "    def matrix_multiply(A, B):\n",
        "        \"\"\"\n",
        "        Returns the product of the matrix A * B\n",
        "            :param A: The first matrix - ORDER MATTERS!\n",
        "            :param B: The second matrix\n",
        "\n",
        "            :return: The product of the two matrices\n",
        "        \"\"\"\n",
        "        # Section 1: Ensure A & B dimensions are correct for multiplication\n",
        "        rowsA = len(A)\n",
        "        colsA = len(A[0])\n",
        "        rowsB = len(B)\n",
        "        colsB = len(B[0])\n",
        "        if colsA != rowsB:\n",
        "            raise ArithmeticError(\n",
        "                'Number of A columns must equal number of B rows.')\n",
        "        # Section 2: Store matrix multiplication in a new matrix\n",
        "        C = zeros_matrix(rowsA, colsB)\n",
        "        for i in range(rowsA):\n",
        "            for j in range(colsB):\n",
        "                total = 0\n",
        "                for ii in range(colsA):\n",
        "                    total += A[i][ii] * B[ii][j]\n",
        "                C[i][j] = total\n",
        "        return C"
      ],
      "execution_count": 11,
      "outputs": []
    },
    {
      "cell_type": "code",
      "metadata": {
        "id": "6GQS_fM5fKbp"
      },
      "source": [
        "def invert_matrix(A, tol=None):\n",
        "    \"\"\"\n",
        "    Returns the inverse of the passed in matrix.\n",
        "        :param A: The matrix to be inversed\n",
        " \n",
        "        :return: The inverse of the matrix A\n",
        "    \"\"\"\n",
        "    # Section 1: Make sure A can be inverted.\n",
        "    check_squareness(A)\n",
        "    check_non_singular(A)\n",
        " \n",
        "    # Section 2: Make copies of A & I, AM & IM, to use for row ops\n",
        "    n = len(A)\n",
        "    AM = copy_matrix(A)\n",
        "    I = identity_matrix(n)\n",
        "    IM = copy_matrix(I)\n",
        " \n",
        "    # Section 3: Perform row operations\n",
        "    indices = list(range(n)) # to allow flexible row referencing ***\n",
        "    for fd in range(n): # fd stands for focus diagonal\n",
        "        fdScaler = 1.0 / AM[fd][fd]\n",
        "        # FIRST: scale fd row with fd inverse. \n",
        "        for j in range(n): # Use j to indicate column looping.\n",
        "            AM[fd][j] *= fdScaler\n",
        "            IM[fd][j] *= fdScaler\n",
        "        # SECOND: operate on all rows except fd row as follows:\n",
        "        for i in indices[0:fd] + indices[fd+1:]: \n",
        "            # *** skip row with fd in it.\n",
        "            crScaler = AM[i][fd] # cr stands for \"current row\".\n",
        "            for j in range(n): \n",
        "                # cr - crScaler * fdRow, but one element at a time.\n",
        "                AM[i][j] = AM[i][j] - crScaler * AM[fd][j]\n",
        "                IM[i][j] = IM[i][j] - crScaler * IM[fd][j]\n",
        " \n",
        "    # Section 4: Make sure IM is an inverse of A with specified tolerance\n",
        "    if check_matrix_equality(I,matrix_multiply(A,IM),tol):\n",
        "        return IM\n",
        "    else:\n",
        "        raise ArithmeticError(\"Matrix inverse out of tolerance.\")\n"
      ],
      "execution_count": 12,
      "outputs": []
    },
    {
      "cell_type": "code",
      "metadata": {
        "id": "TbcBneA8nFAs"
      },
      "source": [
        "# https://stackoverflow.com/questions/37237954/calculate-the-lcm-of-a-list-of-given-numbers-in-python/54597248\n",
        "def find_lcd(lst):\n",
        "  lcm = 1\n",
        "  for i in lst:\n",
        "    lcm = lcm*i//gcd(lcm, i)\n",
        "  return lcm"
      ],
      "execution_count": 23,
      "outputs": []
    },
    {
      "cell_type": "code",
      "metadata": {
        "id": "WN0lajLtX6dT"
      },
      "source": [
        "    def coerce_matrix(matrix):\n",
        "      prob_matrix = []\n",
        "      i = 0\n",
        "      j = 0\n",
        "      prob_end_row = None\n",
        "      first_check = True\n",
        "      for row in matrix:\n",
        "          prob_array = []\n",
        "          for ele in row:\n",
        "            if not all(not ele for ele in row):\n",
        "              prob_array.append(ele / sum(row)) \n",
        "            else:\n",
        "              if first_check == True:\n",
        "                prob_end_row = matrix.index(row)\n",
        "                first_check = False\n",
        "              if i == j:\n",
        "                prob_array.append(1)\n",
        "              else:\n",
        "                prob_array.append(ele)\n",
        "            j += 1\n",
        "          j = 0\n",
        "          i += 1\n",
        "          prob_matrix.append(prob_array)\n",
        "\n",
        "      Q_rows = prob_end_row\n",
        "      Q_col = prob_end_row\n",
        "      R_rows = prob_end_row\n",
        "      R_cols = len(matrix) - prob_end_row\n",
        "      Q = zeros_matrix(Q_rows, Q_col)\n",
        "      R = zeros_matrix(R_rows, R_cols)\n",
        "\n",
        "      for i in range(Q_rows):\n",
        "        for j in range(Q_col):\n",
        "          Q[i][j] = prob_matrix[i][j]\n",
        "      for i in range(R_rows):\n",
        "        for j in range(R_cols -1 ):\n",
        "        \n",
        "          R[i][j] = prob_matrix[i][j + R_cols - 1]\n",
        "          \n",
        "\n",
        "      return prob_matrix, Q, R"
      ],
      "execution_count": 24,
      "outputs": []
    },
    {
      "cell_type": "code",
      "metadata": {
        "id": "aD0IGkejX6aL"
      },
      "source": [
        "#m = [[0,.5,0,.5,0],[.5,0,.5,0,0],[0,.5,0,0,.5],[0,0,0,0,0],[0,0,0,0,0]]\n",
        "m = [[0,1,0,0,0,1],[4,0,0,3,2,0],[0,0,0,0,0,0],[0,0,0,0,0,0],[0,0,0,0,0,0],[0,0,0,0,0,0]]\n",
        "m_prob, Q, R = coerce_matrix(m)\n",
        "N = invert_matrix(matrix_subtraction(identity_matrix(len(Q)),Q),tol=1)\n",
        "M = matrix_multiply(N,R)"
      ],
      "execution_count": 25,
      "outputs": []
    },
    {
      "cell_type": "code",
      "metadata": {
        "colab": {
          "base_uri": "https://localhost:8080/"
        },
        "id": "oyJJqFxVabnr",
        "outputId": "e18dc288-7271-448d-f381-54f7e6b4c0cf"
      },
      "source": [
        "m_prob"
      ],
      "execution_count": 26,
      "outputs": [
        {
          "output_type": "execute_result",
          "data": {
            "text/plain": [
              "[[0.0, 0.5, 0.0, 0.0, 0.0, 0.5],\n",
              " [0.4444444444444444, 0.0, 0.0, 0.3333333333333333, 0.2222222222222222, 0.0],\n",
              " [0, 0, 1, 0, 0, 0],\n",
              " [0, 0, 0, 1, 0, 0],\n",
              " [0, 0, 0, 0, 1, 0],\n",
              " [0, 0, 0, 0, 0, 1]]"
            ]
          },
          "metadata": {},
          "execution_count": 26
        }
      ]
    },
    {
      "cell_type": "code",
      "metadata": {
        "colab": {
          "base_uri": "https://localhost:8080/"
        },
        "id": "_K21yDMU_fay",
        "outputId": "beaa1d6c-4fec-4c06-9898-44ef6f91d5f2"
      },
      "source": [
        "Q"
      ],
      "execution_count": 27,
      "outputs": [
        {
          "output_type": "execute_result",
          "data": {
            "text/plain": [
              "[[0.0, 0.5], [0.4444444444444444, 0.0]]"
            ]
          },
          "metadata": {},
          "execution_count": 27
        }
      ]
    },
    {
      "cell_type": "code",
      "metadata": {
        "colab": {
          "base_uri": "https://localhost:8080/"
        },
        "id": "7w3oZaHI_fXT",
        "outputId": "bd50a4f5-f92d-4a00-eeaf-c097d0e445c7"
      },
      "source": [
        "R"
      ],
      "execution_count": 28,
      "outputs": [
        {
          "output_type": "execute_result",
          "data": {
            "text/plain": [
              "[[0.0, 0.0, 0.5, 0.0], [0.3333333333333333, 0.2222222222222222, 0.0, 0.0]]"
            ]
          },
          "metadata": {},
          "execution_count": 28
        }
      ]
    },
    {
      "cell_type": "code",
      "metadata": {
        "id": "ZwlloNmnFGmJ",
        "colab": {
          "base_uri": "https://localhost:8080/"
        },
        "outputId": "02dcc349-1330-4d66-9b55-38ba7cff1334"
      },
      "source": [
        "N"
      ],
      "execution_count": 29,
      "outputs": [
        {
          "output_type": "execute_result",
          "data": {
            "text/plain": [
              "[[1.2857142857142856, 0.6428571428571428],\n",
              " [0.5714285714285713, 1.2857142857142856]]"
            ]
          },
          "metadata": {},
          "execution_count": 29
        }
      ]
    },
    {
      "cell_type": "code",
      "metadata": {
        "colab": {
          "base_uri": "https://localhost:8080/"
        },
        "id": "TnYNXXqlgJLn",
        "outputId": "8d3a1dd7-e7b6-46ed-ebf1-539ce43b1666"
      },
      "source": [
        "M"
      ],
      "execution_count": 30,
      "outputs": [
        {
          "output_type": "execute_result",
          "data": {
            "text/plain": [
              "[[0.21428571428571425, 0.14285714285714282, 0.6428571428571428, 0.0],\n",
              " [0.4285714285714285, 0.28571428571428564, 0.28571428571428564, 0.0]]"
            ]
          },
          "metadata": {},
          "execution_count": 30
        }
      ]
    },
    {
      "cell_type": "code",
      "metadata": {
        "id": "r1BCwxduiZJF"
      },
      "source": [
        "x = Fraction(M[0][0]).limit_denominator(100)"
      ],
      "execution_count": 31,
      "outputs": []
    },
    {
      "cell_type": "code",
      "metadata": {
        "colab": {
          "base_uri": "https://localhost:8080/",
          "height": 231
        },
        "id": "p4qQ7W16kq3P",
        "outputId": "e789029e-d112-41b4-d3a2-92671108b200"
      },
      "source": [
        "output = []\n",
        "num_list = []\n",
        "den_list = []\n",
        "scale_list = []\n",
        "scaled_num = []\n",
        "output = []\n",
        "\n",
        "for ele in M[0]:\n",
        "  frac = Fraction(ele).limit_denominator(1000)\n",
        "  num_list.append(frac.numerator)\n",
        "  den_list.append(frac.denominator)\n",
        "lcd = find_lcd(den_list)\n",
        "\n",
        "for ele in den_list:\n",
        "  scale_list.append(lcd/ele)\n",
        "\n",
        "for i in range(len(num_list)):\n",
        "  scaled_num.append(num_list[i]*scale_list[i])\n",
        "\n",
        "output = scaled_num.reverse()\n",
        "output = output + [lcd]"
      ],
      "execution_count": 69,
      "outputs": [
        {
          "output_type": "stream",
          "name": "stderr",
          "text": [
            "/usr/local/lib/python3.7/dist-packages/ipykernel_launcher.py:5: DeprecationWarning: fractions.gcd() is deprecated. Use math.gcd() instead.\n",
            "  \"\"\"\n"
          ]
        },
        {
          "output_type": "error",
          "ename": "TypeError",
          "evalue": "ignored",
          "traceback": [
            "\u001b[0;31m---------------------------------------------------------------------------\u001b[0m",
            "\u001b[0;31mTypeError\u001b[0m                                 Traceback (most recent call last)",
            "\u001b[0;32m<ipython-input-69-2b66c711a59b>\u001b[0m in \u001b[0;36m<module>\u001b[0;34m()\u001b[0m\n\u001b[1;32m     19\u001b[0m \u001b[0;34m\u001b[0m\u001b[0m\n\u001b[1;32m     20\u001b[0m \u001b[0moutput\u001b[0m \u001b[0;34m=\u001b[0m \u001b[0mscaled_num\u001b[0m\u001b[0;34m.\u001b[0m\u001b[0mreverse\u001b[0m\u001b[0;34m(\u001b[0m\u001b[0;34m)\u001b[0m\u001b[0;34m\u001b[0m\u001b[0;34m\u001b[0m\u001b[0m\n\u001b[0;32m---> 21\u001b[0;31m \u001b[0moutput\u001b[0m \u001b[0;34m=\u001b[0m \u001b[0moutput\u001b[0m \u001b[0;34m+\u001b[0m \u001b[0mlcd\u001b[0m\u001b[0;34m\u001b[0m\u001b[0;34m\u001b[0m\u001b[0m\n\u001b[0m",
            "\u001b[0;31mTypeError\u001b[0m: unsupported operand type(s) for +: 'NoneType' and 'int'"
          ]
        }
      ]
    },
    {
      "cell_type": "code",
      "metadata": {
        "colab": {
          "base_uri": "https://localhost:8080/"
        },
        "id": "T3bnbqPhlHC0",
        "outputId": "5c67241f-eb81-47e4-ce6d-c13d24b8ef47"
      },
      "source": [
        "num_list"
      ],
      "execution_count": 60,
      "outputs": [
        {
          "output_type": "execute_result",
          "data": {
            "text/plain": [
              "[3, 1, 9, 0]"
            ]
          },
          "metadata": {},
          "execution_count": 60
        }
      ]
    },
    {
      "cell_type": "code",
      "metadata": {
        "colab": {
          "base_uri": "https://localhost:8080/"
        },
        "id": "b6is0suWm1Az",
        "outputId": "1523f526-1a11-46c1-fec8-9b3b3533cb75"
      },
      "source": [
        "den_list"
      ],
      "execution_count": 61,
      "outputs": [
        {
          "output_type": "execute_result",
          "data": {
            "text/plain": [
              "[14, 7, 14, 1]"
            ]
          },
          "metadata": {},
          "execution_count": 61
        }
      ]
    },
    {
      "cell_type": "code",
      "metadata": {
        "id": "pJq7Wf9ioF64",
        "outputId": "8d233a0a-6b88-4e48-8e5b-373f42ba4aca",
        "colab": {
          "base_uri": "https://localhost:8080/"
        }
      },
      "source": [
        "lcd"
      ],
      "execution_count": 62,
      "outputs": [
        {
          "output_type": "execute_result",
          "data": {
            "text/plain": [
              "14"
            ]
          },
          "metadata": {},
          "execution_count": 62
        }
      ]
    },
    {
      "cell_type": "code",
      "metadata": {
        "id": "nmBz_g7RotxH",
        "outputId": "0b443899-ec84-4c08-ec81-16c2812ba94b",
        "colab": {
          "base_uri": "https://localhost:8080/"
        }
      },
      "source": [
        "scale_list"
      ],
      "execution_count": 63,
      "outputs": [
        {
          "output_type": "execute_result",
          "data": {
            "text/plain": [
              "[1.0, 2.0, 1.0, 14.0]"
            ]
          },
          "metadata": {},
          "execution_count": 63
        }
      ]
    },
    {
      "cell_type": "code",
      "metadata": {
        "id": "Wphnd9wApZS6",
        "outputId": "7ad80f29-afd4-48a0-ab06-9069baf5d364",
        "colab": {
          "base_uri": "https://localhost:8080/"
        }
      },
      "source": [
        "scaled_num"
      ],
      "execution_count": 64,
      "outputs": [
        {
          "output_type": "execute_result",
          "data": {
            "text/plain": [
              "[0.0, 9.0, 2.0, 3.0]"
            ]
          },
          "metadata": {},
          "execution_count": 64
        }
      ]
    },
    {
      "cell_type": "code",
      "metadata": {
        "id": "j5I0LmhZqY25",
        "outputId": "580b695a-c137-4aa4-95e4-1f1f4fd169b8",
        "colab": {
          "base_uri": "https://localhost:8080/"
        }
      },
      "source": [
        "output"
      ],
      "execution_count": 65,
      "outputs": [
        {
          "output_type": "execute_result",
          "data": {
            "text/plain": [
              "[]"
            ]
          },
          "metadata": {},
          "execution_count": 65
        }
      ]
    },
    {
      "cell_type": "code",
      "metadata": {
        "id": "XR5nwe_oqwFh"
      },
      "source": [
        ""
      ],
      "execution_count": null,
      "outputs": []
    }
  ]
}